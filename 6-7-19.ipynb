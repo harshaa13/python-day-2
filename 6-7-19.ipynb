{
 "cells": [
  {
   "cell_type": "markdown",
   "metadata": {},
   "source": [
    "# Find the large number from the given 3 numbers"
   ]
  },
  {
   "cell_type": "code",
   "execution_count": 4,
   "metadata": {},
   "outputs": [
    {
     "name": "stdin",
     "output_type": "stream",
     "text": [
      "enter number 1 2\n",
      "enter number 2 3\n",
      "enter number 3 4\n"
     ]
    },
    {
     "name": "stdout",
     "output_type": "stream",
     "text": [
      "a3, - is the largest number\n"
     ]
    }
   ],
   "source": [
    "a1=int(input(\"enter number 1\"))\n",
    "a2=int(input(\"enter number 2\"))\n",
    "a3=int(input(\"enter number 3\"))\n",
    "\n",
    "if a1>a2 and a1>a3:\n",
    "    print(\"a1, - is the largest number\")\n",
    "elif a2>a1 and a2>a3:\n",
    "    print(\"a2, - is the largest number\")\n",
    "else:\n",
    "    print(\"a3, - is the largest number\")\n",
    "    "
   ]
  },
  {
   "cell_type": "markdown",
   "metadata": {},
   "source": [
    "# check if the year is a leap year or not"
   ]
  },
  {
   "cell_type": "code",
   "execution_count": 5,
   "metadata": {},
   "outputs": [
    {
     "name": "stdin",
     "output_type": "stream",
     "text": [
      "Enter year 2016\n"
     ]
    },
    {
     "name": "stdout",
     "output_type": "stream",
     "text": [
      "leap year\n"
     ]
    }
   ],
   "source": [
    "year = int(input(\"Enter year\"))\n",
    "if year%400 == 0 or (year % 100 != 0 and year % 4 ==0):\n",
    "    print(\"leap year\")\n",
    "else:\n",
    "    print(\"not a leap year\")"
   ]
  },
  {
   "cell_type": "code",
   "execution_count": 7,
   "metadata": {},
   "outputs": [
    {
     "name": "stdin",
     "output_type": "stream",
     "text": [
      "enter a number 10\n"
     ]
    },
    {
     "name": "stdout",
     "output_type": "stream",
     "text": [
      "1 2 3 4 5 6 7 8 9 10 "
     ]
    }
   ],
   "source": [
    "# print the natural numbers using while loop\n",
    "# input - 10\n",
    "# output - 1 2 3 .........10\n",
    "n=int(input(\"enter a number\"))\n",
    "i=1\n",
    "while i<=n:\n",
    "    print(i,end=\" \")\n",
    "    i=i+1"
   ]
  },
  {
   "cell_type": "code",
   "execution_count": 8,
   "metadata": {},
   "outputs": [
    {
     "name": "stdin",
     "output_type": "stream",
     "text": [
      "enter a number 10\n"
     ]
    },
    {
     "name": "stdout",
     "output_type": "stream",
     "text": [
      "30\n"
     ]
    }
   ],
   "source": [
    "# Read a number -- n\n",
    "# Add only even numbers between 1 to n\n",
    "# Input -- 10\n",
    "# Output -- 30(2 + 4 + 6 + 8 + 10)\n",
    "n=int(input(\"enter a number\"))\n",
    "i=1\n",
    "sum=0\n",
    "while i <= n:\n",
    "    if i%2 == 0:\n",
    "        sum=sum+i\n",
    "    i=i+1\n",
    "    \n",
    "print (sum)    "
   ]
  },
  {
   "cell_type": "code",
   "execution_count": 10,
   "metadata": {},
   "outputs": [
    {
     "name": "stdout",
     "output_type": "stream",
     "text": [
      "Gitam\n",
      "Gitam\n",
      "Gitam\n",
      "Gitam\n",
      "Gitam\n"
     ]
    }
   ],
   "source": [
    "# Need to print gitam for 5 times\n",
    "print(\"Gitam\")\n",
    "print(\"Gitam\")\n",
    "print(\"Gitam\")\n",
    "print(\"Gitam\")\n",
    "print(\"Gitam\")"
   ]
  },
  {
   "cell_type": "code",
   "execution_count": 12,
   "metadata": {},
   "outputs": [
    {
     "name": "stdin",
     "output_type": "stream",
     "text": [
      "enter a number 123\n"
     ]
    },
    {
     "name": "stdout",
     "output_type": "stream",
     "text": [
      "3 2 1 "
     ]
    }
   ],
   "source": [
    "# number as a number -- 123\n",
    "# print the digits of a given number : 3 2 1\n",
    "n=int(input(\"enter a number\"))\n",
    "while n!=0:\n",
    "    r=n % 10\n",
    "    print(r,end=\" \")\n",
    "    n=n // 10"
   ]
  },
  {
   "cell_type": "markdown",
   "metadata": {},
   "source": [
    "## Functional programming \n",
    "- simple\n",
    "- easy read\n",
    "- lengthy program divides into sub programs"
   ]
  },
  {
   "cell_type": "markdown",
   "metadata": {},
   "source": [
    "###syntax\n",
    "- def nameofthefunction(<Parameters):\n",
    " - Statement\n",
    " - return"
   ]
  },
  {
   "cell_type": "code",
   "execution_count": 14,
   "metadata": {},
   "outputs": [],
   "source": [
    "# Read a number -- 1234\n",
    "# Output -- 6(2 + 4)\n",
    "def addEvenDigits(n):\n",
    "    #statements to compute the output of the program\n",
    "    return\n",
    "addEvenDigits(1234)"
   ]
  }
 ],
 "metadata": {
  "kernelspec": {
   "display_name": "Python 3",
   "language": "python",
   "name": "python3"
  },
  "language_info": {
   "codemirror_mode": {
    "name": "ipython",
    "version": 3
   },
   "file_extension": ".py",
   "mimetype": "text/x-python",
   "name": "python",
   "nbconvert_exporter": "python",
   "pygments_lexer": "ipython3",
   "version": "3.7.3"
  }
 },
 "nbformat": 4,
 "nbformat_minor": 2
}
